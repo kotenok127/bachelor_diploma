{
 "cells": [
  {
   "cell_type": "code",
   "execution_count": null,
   "outputs": [],
   "source": [],
   "metadata": {
    "collapsed": false,
    "pycharm": {
     "name": "#%%\n"
    }
   }
  },
  {
   "cell_type": "code",
   "execution_count": null,
   "outputs": [],
   "source": [
    "%tensorflow_version 1.x\n",
    "\n",
    "from keras.models import Sequential\n",
    "from keras.layers import Dense, Dropout, Activation, Flatten\n",
    "from keras.layers import Convolution2D, MaxPooling2D\n",
    "from keras.utils import np_utils\n",
    "\n",
    "# from keras.models import Sequential\n",
    "# from keras.layers import Dense, Dropout, Activation, Flatten\n",
    "# from keras.layers import Convolution2D, MaxPooling2D\n",
    "# from keras.utils import np_utils\n",
    "import numpy as np\n",
    "from matplotlib import pyplot as plt\n",
    "%matplotlib inline\n",
    "\n",
    "# plt.imshow(X_train[0])\n",
    "import pickle\n",
    "from keras.optimizers import SGD\n",
    "from keras import regularizers"
   ],
   "metadata": {
    "collapsed": false,
    "pycharm": {
     "name": "#%%\n"
    }
   }
  },
  {
   "cell_type": "code",
   "execution_count": null,
   "outputs": [],
   "source": [
    "# from google.colab import drive\n",
    "# drive.mount('/content/drive')"
   ],
   "metadata": {
    "collapsed": false,
    "pycharm": {
     "name": "#%%\n"
    }
   }
  },
  {
   "cell_type": "code",
   "execution_count": null,
   "outputs": [],
   "source": [
    "# root = '/content/drive/My Drive/'\n",
    "root = '.'\n",
    "# curDir = root + 'large_inverted/'\n",
    "curDir = root + 'large_nf_InvertZY2/'\n",
    "\n",
    "\n",
    "nset = 'large_set1'\n",
    "wData = np.genfromtxt(curDir + nset + '_W.dat')\n",
    "jData = np.genfromtxt(curDir + nset + '_J.dat')\n",
    "zData = np.genfromtxt(curDir + nset + '_Z.dat')\n",
    "xData = np.genfromtxt(curDir + nset + '_X.dat')\n",
    "yData = np.genfromtxt(curDir + nset + '_Y.dat')\n",
    "\n",
    "cntwj = len(wData)"
   ],
   "metadata": {
    "collapsed": false,
    "pycharm": {
     "name": "#%%\n"
    }
   }
  },
  {
   "cell_type": "code",
   "execution_count": null,
   "outputs": [],
   "source": [
    "picDir =  root + 'phase_diagram_pictures2/'"
   ],
   "metadata": {
    "collapsed": false,
    "pycharm": {
     "name": "#%%\n"
    }
   }
  },
  {
   "cell_type": "code",
   "execution_count": null,
   "outputs": [],
   "source": [
    "print(cntwj)"
   ],
   "metadata": {
    "collapsed": false,
    "pycharm": {
     "name": "#%%\n"
    }
   }
  },
  {
   "cell_type": "code",
   "execution_count": null,
   "outputs": [],
   "source": [
    "def read_data(minj, maxj, minw, maxw):\n",
    "  #чтобы нормально делать только одно значение j\n",
    "  resind = {}\n",
    "  resind2 = {}\n",
    "  for i in range (cntwj):\n",
    "    # print()\n",
    "    if ((minw < wData[i] < maxw) and (minj < jData[i] < maxj)):\n",
    "      if (not jData[i] in resind):\n",
    "        resind[jData[i]] = []\n",
    "      resind[jData[i]].append(i)\n",
    "      if (not wData[i] in resind2):\n",
    "        resind2[wData[i]] = []\n",
    "      resind2[wData[i]].append(i)\n",
    "  return (resind, resind2)\n",
    "\n",
    "\n",
    "jmin, jmax, wmin, wmax = 0.1, 0.4, 2.3, 4\n",
    "(ind, ind2) = read_data(jmin, jmax, wmin, wmax)\n",
    "# print(ind[0:1000])\n",
    "print(ind.keys())\n",
    "print(ind2.keys())\n",
    "name = \"j=\" + str(jmin) + \"-\" + str(jmax) + \"_w=\" + str(wmin) + \"-\" + str(wmax) + \"_\"\n",
    "print(name)\n",
    "print(len(ind))\n",
    "print(len(ind2))\n",
    "# for jj in ind.keys():\n",
    "#   print(ind[jj])\n",
    "#   print(jData[ind[jj]])\n",
    "#   print(wData[ind[jj]])\n",
    "\n",
    "# print()"
   ],
   "metadata": {
    "collapsed": false,
    "pycharm": {
     "name": "#%%\n"
    }
   }
  },
  {
   "cell_type": "code",
   "execution_count": null,
   "outputs": [],
   "source": [
    "print(ind.keys())\n",
    "print(ind[1.1219999999999997])\n",
    "print(len(ind[1.1219999999999997]))"
   ],
   "metadata": {
    "collapsed": false,
    "pycharm": {
     "name": "#%%\n"
    }
   }
  },
  {
   "cell_type": "code",
   "execution_count": null,
   "outputs": [],
   "source": [
    "1.832745592008"
   ],
   "metadata": {
    "collapsed": false,
    "pycharm": {
     "name": "#%%\n"
    }
   }
  },
  {
   "cell_type": "code",
   "execution_count": null,
   "outputs": [],
   "source": [
    "X = zData[indicies]\n",
    "j = jData[indicies]\n",
    "w = wData[indicies]"
   ],
   "metadata": {
    "collapsed": false,
    "pycharm": {
     "name": "#%%\n"
    }
   }
  },
  {
   "cell_type": "code",
   "execution_count": null,
   "outputs": [],
   "source": [
    "# gendata()\n",
    "print(len(ind))\n",
    "print(len(ind2))\n",
    "\n",
    "\n",
    "# print(indicies)"
   ],
   "metadata": {
    "collapsed": false,
    "pycharm": {
     "name": "#%%\n"
    }
   }
  },
  {
   "cell_type": "code",
   "execution_count": null,
   "outputs": [],
   "source": [
    "def my_ranspose(arr):\n",
    "  (a, b, c) = arr.shape\n",
    "  # print(a, b, c)\n",
    "  res = []\n",
    "  for j in range(0, b, 5):\n",
    "    for i in range(a):\n",
    "      res.append(arr[i][j])\n",
    "  return np.array(res)\n"
   ],
   "metadata": {
    "collapsed": false,
    "pycharm": {
     "name": "#%%\n"
    }
   }
  },
  {
   "cell_type": "code",
   "execution_count": null,
   "outputs": [],
   "source": [
    "wkeys = list(ind2.keys())\n",
    "jkeys = list(ind.keys())\n",
    "wkeys.sort()\n",
    "jkeys.sort()\n",
    "print(wkeys)\n",
    "print(jkeys)\n",
    "\n",
    "def gendata2():\n",
    "  train_test = []\n",
    "\n",
    "  # [(train, test), (train, test)] 3  к 1\n",
    "  for wi in range(0, len(ind2) // 8):\n",
    "    X_train = []\n",
    "    for i in range(6):\n",
    "      # print(wkeys[wi + i])\n",
    "      indicies = ind2.get(wkeys[wi * 8 + i])\n",
    "      xx = []\n",
    "      for ii in indicies:\n",
    "    \n",
    "        c = np.concatenate((zData[ii], xData[ii], yData[ii]))\n",
    "        # print(c.shape)\n",
    "        xx.append(np.concatenate((zData[ii], xData[ii], yData[ii])))\n",
    "      X_train.append(np.array(xx))\n",
    "    # print(np.array(X_train).shape)\n",
    "    X_train = my_ranspose(np.array(X_train))\n",
    "    # print(\"haha\", X_train.shape)\n",
    "\n",
    "      #  = np.array([np.concatenate((zData[indicies], \n",
    "      #                                 xData[indicies[j*total_size + i]],\n",
    "      #                                 yData[indicies[j*total_size + i]])) for j in range(each_len)  for i in range(train_size)  ])\n",
    "    X_test = []\n",
    "    for i in range(6, 8):\n",
    "      indicies = ind2.get(wkeys[wi * 8  + i])\n",
    "      xx = []\n",
    "      for ii in indicies:\n",
    "        xx.append(np.concatenate((zData[ii], xData[ii], yData[ii])))\n",
    "      # print(np.array(X_test).shape)\n",
    "      X_test.append(np.array(xx))\n",
    "    X_test = my_ranspose(np.array(X_test))\n",
    "    train_test.append((wkeys[wi  * 8 + 4], X_train, X_test))\n",
    "  return train_test\n",
    "# print()\n",
    "data = gendata2()\n",
    "print(len(data))\n",
    "print(np.array(data[0][1]).shape)\n",
    "each_len = np.array(data[0][1]).shape[0] // 6\n",
    "print(each_len)\n",
    "each_len = np.array(data[0][2]).shape[0] // 2\n",
    "print(each_len)\n",
    "# print(data[0])"
   ],
   "metadata": {
    "collapsed": false,
    "pycharm": {
     "name": "#%%\n"
    }
   }
  },
  {
   "cell_type": "code",
   "execution_count": null,
   "outputs": [],
   "source": [
    "\n",
    "print(ind2.keys())\n",
    "print(ind.keys())\n",
    "print([data[i][0] for i in range(len(data))])\n",
    "ww = [data[i][0] for i in range(len(data))]\n",
    "print(len(ww))\n",
    "\n",
    "\n",
    "jj = jData[ind2.get(2.041309823756)]\n",
    "for i in range(0, len(ww), 5):\n",
    "  print(i // 5, ww[i])\n",
    "print(len(jj))\n",
    "print(jj)\n",
    "for i in range(len(jj)):\n",
    "  if (i % 5 == 0):\n",
    "    print(i // 5, jj[i])\n",
    "    \n",
    "  # print(i)"
   ],
   "metadata": {
    "collapsed": false,
    "pycharm": {
     "name": "#%%\n"
    }
   }
  },
  {
   "cell_type": "code",
   "execution_count": null,
   "outputs": [],
   "source": [
    "# indicies = ind2[1.832745592008]\n",
    "# print(indicies)\n",
    "X_train = []\n",
    "X_test = []\n",
    "train_size = 0\n",
    "test_size = 0\n",
    "each_len = 12\n",
    "train_size = 3\n",
    "total_size = 0\n",
    "def gendata():\n",
    "  global X_train\n",
    "  global X_test\n",
    "  global test_size\n",
    "  global train_size\n",
    "  global total_size\n",
    "\n",
    "  print (\"start gen\")\n",
    "  \n",
    "\n",
    "  total_size = (len(indicies)//each_len)\n",
    "  \n",
    "  test_size = total_size - train_size\n",
    "\n",
    "  # print(len(indicies))\n",
    "  print(total_size)\n",
    "  print(train_size)\n",
    "  print(test_size)\n",
    "  X = np.array(indicies)\n",
    "  xx = (np.concatenate((zData[indicies[0]], xData[indicies[0]] )))\n",
    "  # print(xx.shape)\n",
    "  X_train = np.array([np.concatenate((zData[indicies[j*total_size + i]], \n",
    "                                      xData[indicies[j*total_size + i]],\n",
    "                                      yData[indicies[j*total_size + i]])) for j in range(each_len)  for i in range(train_size)  ])\n",
    "  X_test = np.array([np.concatenate((zData[indicies[j*total_size + i]],\n",
    "                                    xData[indicies[j*total_size + i]],\n",
    "                                    yData[indicies[j*total_size + i]]))  for j in range(each_len)  for i in range(train_size, total_size)  ])\n",
    "  # print(X_train.shape)\n",
    "  # print(X_test.shape)\n",
    "  print (\"end gen\")\n",
    "\n",
    "\n",
    "# test_size = \n",
    "# ex_len = 10\n"
   ],
   "metadata": {
    "collapsed": false,
    "pycharm": {
     "name": "#%%\n"
    }
   }
  },
  {
   "cell_type": "code",
   "execution_count": null,
   "outputs": [],
   "source": [],
   "metadata": {
    "collapsed": false,
    "pycharm": {
     "name": "#%%\n"
    }
   }
  },
  {
   "cell_type": "code",
   "execution_count": null,
   "outputs": [],
   "source": [
    "# X_train = np.array([j*22 + i for j in range(10)  for i in range(15)  ])\n",
    "# X_test = np.array([j*22 + i for j in range(10)  for i in range(15, 22)  ])\n",
    "# print(X_train)\n",
    "# print(X_test)\n"
   ],
   "metadata": {
    "collapsed": false,
    "pycharm": {
     "name": "#%%\n"
    }
   }
  },
  {
   "cell_type": "code",
   "execution_count": null,
   "outputs": [],
   "source": [
    "res = []\n",
    "def getresult():\n",
    "  global res\n",
    "  res = []\n",
    "  global each_len\n",
    "  train_size = 6\n",
    "  test_size = 2\n",
    "\n",
    "  for split_i in range(1, each_len):\n",
    "    model = Sequential()\n",
    "  #  kernel_regularizer=regularizers.l2(0.01)\n",
    "  #  lr = 0.075\n",
    "    model.add(Dense(80, input_dim=64*3, kernel_regularizer=regularizers.l2(0.001), activation='sigmoid'))\n",
    "    model.add(Dense(2,  kernel_regularizer=regularizers.l2(0.001)))\n",
    "    model.add(Activation('relu'))\n",
    "    sgd = SGD(lr=0.075)\n",
    "    model.compile(optimizer=sgd,\n",
    "                loss='categorical_crossentropy',\n",
    "                metrics=['accuracy'])\n",
    "   \n",
    "    y_train = np.array([[0] for i in range(split_i * train_size)]+[[1] for i in range((each_len - split_i) * train_size)])\n",
    "    y_test =  np.array([[0] for i in range(split_i * test_size)]+[[1] for i in range((each_len - split_i) * test_size)])\n",
    "\n",
    "    Y_train = np_utils.to_categorical(y_train, 2)\n",
    "    Y_test = np_utils.to_categorical(y_test, 2)\n",
    "    # print(X_train.shape)\n",
    "    # print(Y_train.shape)\n",
    "    # print(Y_test.shape)\n",
    "    # print(X_test.shape)\n",
    "\n",
    "    model.fit(X_train, Y_train, \n",
    "            epochs=5, verbose=0)\n",
    "    score =  model.evaluate(X_test, Y_test, verbose=0)\n",
    "    print(score)\n",
    "    res.append(score)\n",
    "    if (res[0][1] < 0.8):\n",
    "      res = []\n",
    "      return False\n",
    "  return True\n",
    "  # res.append(model.evaluate(X_test, Y_test, verbose=0))"
   ],
   "metadata": {
    "collapsed": false,
    "pycharm": {
     "name": "#%%\n"
    }
   }
  },
  {
   "cell_type": "code",
   "execution_count": null,
   "outputs": [],
   "source": [],
   "metadata": {
    "collapsed": false,
    "pycharm": {
     "name": "#%%\n"
    }
   }
  },
  {
   "cell_type": "code",
   "execution_count": null,
   "outputs": [],
   "source": [],
   "metadata": {
    "collapsed": false,
    "pycharm": {
     "name": "#%%\n"
    }
   }
  },
  {
   "cell_type": "code",
   "execution_count": null,
   "outputs": [],
   "source": [
    "def find_pic (pic, jval, wmin, wmax):\n",
    "  # xx = np.array([jData[indicies[j*total_size + 3]] for j in range(0, each_len - 1)])\n",
    "  # # print(xx)\n",
    "  # xarr = [xx[i] + (xx[1] -xx[0])/2 for i in range(0, each_len - 1)]\n",
    "  # # print(xarr)\n",
    "  indicies = ind2.get(jval)\n",
    "  # print(indicies)\n",
    "  xarr = [jData[indicies[i]] for i in range(0, len(indicies) - 5, 5)]\n",
    "  \n",
    "  plt.plot(xarr, [r[1] for r in res], c='b')\n",
    "  plt.savefig(picDir + \"j_fixed_\" + str(jval) + \"w_range_\" +  str(wmin)  + \"_\" + str(wmax) +  \".png\")\n",
    "  plt.show()\n",
    "  plt.close()\n",
    "  return (xarr[pic])\n",
    "\n"
   ],
   "metadata": {
    "collapsed": false,
    "pycharm": {
     "name": "#%%\n"
    }
   }
  },
  {
   "cell_type": "code",
   "execution_count": null,
   "outputs": [],
   "source": [
    "def has_w_shape(arr):\n",
    "  state = 1\n",
    "  res = -1\n",
    "  if (arr[0] < 0.8):\n",
    "    return -1\n",
    "  for i in range(1, len(arr) - 1):\n",
    "    if (state == 1):\n",
    "      if (arr[i] >= arr[i - 1 ]):\n",
    "        state = 2\n",
    "    elif (state == 2):\n",
    "      if (arr[i] < arr[i - 1 ]):\n",
    "        state = 3\n",
    "        res = i - 1\n",
    "    elif (state == 3):\n",
    "      if (arr[i] >= arr[i - 1 ]):\n",
    "        state = 4\n",
    "    elif (state == 4):\n",
    "      if (arr[i] < arr[i - 1 ]):\n",
    "        state = 5\n",
    "  if (state != 4):\n",
    "    if (state == 5):\n",
    "      print(\"state 5\")\n",
    "    return -1\n",
    "  else:\n",
    "    return res\n"
   ],
   "metadata": {
    "collapsed": false,
    "pycharm": {
     "name": "#%%\n"
    }
   }
  },
  {
   "cell_type": "code",
   "execution_count": null,
   "outputs": [],
   "source": [
    "resnew = []\n",
    "jkeys = list(ind2.keys())\n",
    "print(jkeys)\n",
    "\n",
    "# for i in range(0, len(ind2), 15):\n",
    "for (ww, x_tr, x_ts) in data:\n",
    "  print(\"new data\")\n",
    "  global X_train\n",
    "  global X_test\n",
    "  X_train = x_tr\n",
    "  X_test = x_ts\n",
    "  f = getresult()\n",
    "  if (f):\n",
    "    pic = has_w_shape([r[1] for r in res])\n",
    "  else:\n",
    "    pic = -1\n",
    "  tries = 1\n",
    "  while(pic == -1 and tries < 3):\n",
    "    tries += 1\n",
    "    print(\"retry!!!\")\n",
    "    # print(pic)\n",
    "    f = getresult()\n",
    "    if (f):\n",
    "      pic = has_w_shape([r[1] for r in res])\n",
    "    else:\n",
    "      pic = -1\n",
    "  if (pic == -1):\n",
    "    resnew.append(-1)\n",
    "  else:\n",
    "    print(\"ok!!!\")\n",
    "    print(pic)\n",
    "    resnew.append(find_pic (pic , ww, wmin, wmax))\n",
    "\n",
    "\n",
    "\n"
   ],
   "metadata": {
    "collapsed": false,
    "pycharm": {
     "name": "#%%\n"
    }
   }
  },
  {
   "cell_type": "code",
   "execution_count": null,
   "outputs": [],
   "source": [],
   "metadata": {
    "collapsed": false,
    "pycharm": {
     "name": "#%%\n"
    }
   }
  },
  {
   "cell_type": "code",
   "execution_count": null,
   "outputs": [],
   "source": [
    "print(resnew)\n",
    "yy= []\n",
    "xx = []\n",
    "for i in range(len(resnew)):\n",
    "  if (resnew[i]!=-1):\n",
    "    yy.append(data[i][0])\n",
    "    xx.append(resnew[i])\n",
    "plt.plot(xx, yy)\n",
    "print(xx)\n",
    "print(yy)\n",
    "print(\"\")\n"
   ],
   "metadata": {
    "collapsed": false,
    "pycharm": {
     "name": "#%%\n"
    }
   }
  },
  {
   "cell_type": "code",
   "execution_count": null,
   "outputs": [],
   "source": [
    "yy = []\n",
    "xxx = []\n",
    "rr = []\n",
    "for i in range(0, len(ind2), 15):\n",
    "  if (resnew[i // 15]!=-1):\n",
    "    yy.append(jkeys[i])\n",
    "    rr.append(resnew[i // 15])\n",
    "plt.scatter(rr, yy)\n",
    "plt.plot (rr, yy)\n",
    "plt.show()"
   ],
   "metadata": {
    "collapsed": false,
    "pycharm": {
     "name": "#%%\n"
    }
   }
  },
  {
   "cell_type": "code",
   "execution_count": null,
   "outputs": [],
   "source": [
    "print(rr)\n",
    "print(xx)"
   ],
   "metadata": {
    "collapsed": false,
    "pycharm": {
     "name": "#%%\n"
    }
   }
  },
  {
   "cell_type": "code",
   "execution_count": null,
   "outputs": [],
   "source": [
    "yy = []\n",
    "xxx = []\n",
    "for i in range(0, len(ind2), 20):\n",
    "  yy.append(jkeys[i])\n",
    "\n",
    "plt.plot (resnew, yy)\n",
    "plt.show()"
   ],
   "metadata": {
    "collapsed": false,
    "pycharm": {
     "name": "#%%\n"
    }
   }
  },
  {
   "cell_type": "code",
   "execution_count": null,
   "outputs": [],
   "source": [
    "yy = []\n",
    "xxx = []\n",
    "for i in range(0, len(ind2), 20):\n",
    "  yy.append(jkeys[i])\n",
    "\n",
    "plt.plot (resnew, yy)\n",
    "plt.show()\n",
    "\n"
   ],
   "metadata": {
    "collapsed": false,
    "pycharm": {
     "name": "#%%\n"
    }
   }
  }
 ],
 "metadata": {
  "kernelspec": {
   "display_name": "Python 3",
   "language": "python",
   "name": "python3"
  },
  "language_info": {
   "codemirror_mode": {
    "name": "ipython",
    "version": 2
   },
   "file_extension": ".py",
   "mimetype": "text/x-python",
   "name": "python",
   "nbconvert_exporter": "python",
   "pygments_lexer": "ipython2",
   "version": "2.7.6"
  },
  "pycharm": {
   "stem_cell": {
    "cell_type": "raw",
    "source": [],
    "metadata": {
     "collapsed": false
    }
   }
  }
 },
 "nbformat": 4,
 "nbformat_minor": 0
}