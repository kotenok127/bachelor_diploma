{
 "cells": [
  {
   "cell_type": "code",
   "execution_count": null,
   "metadata": {
    "collapsed": true
   },
   "outputs": [],
   "source": [
    "from matplotlib import pyplot as plt\n",
    "%matplotlib inline\n",
    "import numpy as np"
   ]
  },
  {
   "cell_type": "code",
   "execution_count": null,
   "outputs": [],
   "source": [
    "x = np.arange(9)\n",
    "y = np.array([1, 0.9, 0.8, 0.9, 1,  0.9, 0.8,  0.9, 1])\n",
    "print(len(y))\n",
    "plt.xlabel(\"x_0\")\n",
    "plt.ylabel(\"accuracy\")\n",
    "plt.scatter(x, y, c='b')\n",
    "plt.plot(x, y, c='b')\n"
   ],
   "metadata": {
    "collapsed": false,
    "pycharm": {
     "name": "#%%\n"
    }
   }
  },
  {
   "cell_type": "code",
   "execution_count": null,
   "outputs": [],
   "source": [
    "a = np.linspace(-1,1,100)\n",
    "print(a)\n",
    "plt.scatter(np.arange(100), np.arange(100), c=a, cmap='inferno')"
   ],
   "metadata": {
    "collapsed": false,
    "pycharm": {
     "name": "#%%\n"
    }
   }
  },
  {
   "cell_type": "code",
   "execution_count": null,
   "outputs": [],
   "source": [
    "plt.scatter(np.arange(5), [1] * 5, c='orange', s=100)\n",
    "plt.scatter(np.arange(5, 10), [1] * 5, c='blue', s=100)\n",
    "plt.scatter(np.arange(10), [0.5]*10, c='orange', s=100, marker=\"*\")\n",
    "plt.scatter(np.arange(10, 10), [0.5]*0, c='blue', s=100, marker=\"*\")\n",
    "\n",
    "plt.xlim(-2, 12)\n",
    "# plt.plot([-2, 12], [1, 1], c='black')\n",
    "plt.plot([9.5, 9.5], [0, 2], c='black')\n",
    "plt.axis('off')"
   ],
   "metadata": {
    "collapsed": false,
    "pycharm": {
     "name": "#%%\n"
    }
   }
  },
  {
   "cell_type": "code",
   "execution_count": null,
   "outputs": [],
   "source": [
    "plt.scatter([1] * 10,  )"
   ],
   "metadata": {
    "collapsed": false,
    "pycharm": {
     "name": "#%%\n"
    }
   }
  },
  {
   "cell_type": "code",
   "execution_count": null,
   "outputs": [],
   "source": [
    "plt.scatter(np.arange(10), [1] * 10, c='orange', s=100)"
   ],
   "metadata": {
    "collapsed": false,
    "pycharm": {
     "name": "#%%\n"
    }
   }
  }
 ],
 "metadata": {
  "kernelspec": {
   "display_name": "Python 3",
   "language": "python",
   "name": "python3"
  },
  "language_info": {
   "codemirror_mode": {
    "name": "ipython",
    "version": 2
   },
   "file_extension": ".py",
   "mimetype": "text/x-python",
   "name": "python",
   "nbconvert_exporter": "python",
   "pygments_lexer": "ipython2",
   "version": "2.7.6"
  },
  "pycharm": {
   "stem_cell": {
    "cell_type": "raw",
    "source": [],
    "metadata": {
     "collapsed": false
    }
   }
  }
 },
 "nbformat": 4,
 "nbformat_minor": 0
}